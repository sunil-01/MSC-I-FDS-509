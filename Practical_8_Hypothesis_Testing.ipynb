{
  "nbformat": 4,
  "nbformat_minor": 0,
  "metadata": {
    "colab": {
      "provenance": [],
      "include_colab_link": true
    },
    "kernelspec": {
      "name": "python3",
      "display_name": "Python 3"
    },
    "language_info": {
      "name": "python"
    }
  },
  "cells": [
    {
      "cell_type": "markdown",
      "metadata": {
        "id": "view-in-github",
        "colab_type": "text"
      },
      "source": [
        "<a href=\"https://colab.research.google.com/github/sunil-01/MSC-I-FDS-509/blob/main/Practical_8_Hypothesis_Testing.ipynb\" target=\"_parent\"><img src=\"https://colab.research.google.com/assets/colab-badge.svg\" alt=\"Open In Colab\"/></a>"
      ]
    },
    {
      "cell_type": "code",
      "execution_count": null,
      "metadata": {
        "id": "QM124zrnHfNX"
      },
      "outputs": [],
      "source": [
        "import pandas as pd\n",
        "import numpy as np\n",
        "import matplotlib.pyplot as plt\n",
        "import seaborn as sns\n",
        "import scipy.stats as stats\n",
        "from scipy.stats import ttest_1samp\n",
        "from statsmodels.stats.power import tt_ind_solve_power"
      ]
    },
    {
      "cell_type": "markdown",
      "source": [
        "T test A t test is inferntial statistics which is used to determine if there is a significant difference betweenthe means of two groups which may be related in certain features\n",
        "\n",
        "T-test has 2 types: 1) One sampled t test 2) Two sampled t test\n",
        "\n",
        "t= (sample mean - population mean) / standard error"
      ],
      "metadata": {
        "id": "rx2Kls-yHmYh"
      }
    },
    {
      "cell_type": "markdown",
      "source": [],
      "metadata": {
        "id": "zYhrdXJ3Crpp"
      }
    },
    {
      "cell_type": "code",
      "source": [],
      "metadata": {
        "id": "sO33MaU0CsMi"
      },
      "execution_count": null,
      "outputs": []
    },
    {
      "cell_type": "markdown",
      "source": [],
      "metadata": {
        "id": "6xexapuFCs8I"
      }
    },
    {
      "cell_type": "code",
      "source": [],
      "metadata": {
        "id": "VE9g1BohCtYp"
      },
      "execution_count": null,
      "outputs": []
    },
    {
      "cell_type": "markdown",
      "source": [],
      "metadata": {
        "id": "2moji0NGCtkX"
      }
    },
    {
      "cell_type": "code",
      "source": [
        "ages=[10,20,35,50,28,40,55,18,16,55,30,25,43,18,30,28,14,24,16,17,32,35,26,27,65,18,43,23,21,20,19,70]"
      ],
      "metadata": {
        "id": "VaXnICkdHm81"
      },
      "execution_count": null,
      "outputs": []
    },
    {
      "cell_type": "code",
      "source": [
        "ages_mean=np.mean(ages)\n",
        "print(ages_mean)"
      ],
      "metadata": {
        "colab": {
          "base_uri": "https://localhost:8080/"
        },
        "id": "Q82FrVfGHpQC",
        "outputId": "7cc68c98-eb61-47ce-a35d-d497d79a79d4"
      },
      "execution_count": null,
      "outputs": [
        {
          "output_type": "stream",
          "name": "stdout",
          "text": [
            "30.34375\n"
          ]
        }
      ]
    },
    {
      "cell_type": "code",
      "source": [
        "#Lets take sample\n",
        "sample_size=10\n",
        "age_sample=np.random.choice(ages,sample_size)\n",
        "age_sample"
      ],
      "metadata": {
        "colab": {
          "base_uri": "https://localhost:8080/"
        },
        "id": "vD7dfFQpHrg5",
        "outputId": "643a9626-5cce-46d7-b026-fbb1fe38aa9f"
      },
      "execution_count": null,
      "outputs": [
        {
          "output_type": "execute_result",
          "data": {
            "text/plain": [
              "array([28, 16, 16, 43, 35, 27, 24, 10, 18, 16])"
            ]
          },
          "metadata": {},
          "execution_count": 4
        }
      ]
    },
    {
      "cell_type": "code",
      "source": [
        "from scipy.stats import ttest_1samp"
      ],
      "metadata": {
        "id": "bv619XP_Hten"
      },
      "execution_count": null,
      "outputs": []
    },
    {
      "cell_type": "code",
      "source": [
        "ttest,p_value=ttest_1samp(age_sample,30)"
      ],
      "metadata": {
        "id": "2x2f70ysHunC"
      },
      "execution_count": null,
      "outputs": []
    },
    {
      "cell_type": "code",
      "source": [
        "print(p_value)"
      ],
      "metadata": {
        "id": "0xb04HdoHwuj",
        "outputId": "bf73489d-23f0-40f8-91d2-b0fda2ec816c",
        "colab": {
          "base_uri": "https://localhost:8080/"
        }
      },
      "execution_count": null,
      "outputs": [
        {
          "output_type": "stream",
          "name": "stdout",
          "text": [
            "0.0663276542607543\n"
          ]
        }
      ]
    },
    {
      "cell_type": "code",
      "source": [
        "if p_value < 0.05:\n",
        "    print(\"We are rejecting null hypothesis\")\n",
        "else:\n",
        "    print(\"We are accepting null hypothesis\")"
      ],
      "metadata": {
        "id": "dSFKnWiiHy8F",
        "outputId": "452826be-89cc-4de3-da5a-a5f9afcf36b6",
        "colab": {
          "base_uri": "https://localhost:8080/"
        }
      },
      "execution_count": null,
      "outputs": [
        {
          "output_type": "stream",
          "name": "stdout",
          "text": [
            "We are accepting null hypothesis\n"
          ]
        }
      ]
    }
  ]
}